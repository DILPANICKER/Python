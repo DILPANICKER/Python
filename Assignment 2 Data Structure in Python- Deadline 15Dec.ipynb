{
 "cells": [
  {
   "cell_type": "markdown",
   "id": "83fb2c4b-ec57-4b18-b8ed-1b341a4434f5",
   "metadata": {},
   "source": [
    "## Data Structure in Python"
   ]
  },
  {
   "cell_type": "code",
   "execution_count": 1,
   "id": "d4ebdc60-5126-4d54-8e91-eeba3221a7c9",
   "metadata": {},
   "outputs": [],
   "source": [
    "# Topic :List\n",
    "# Exercise\n",
    "# Q1. Create a list of 5 random numbers and print the list.\n",
    "# Q2. Insert 3 new values to the list and print the updated list.\n",
    "# Q3. Try to use a for loop to print each element in the list.b\n"
   ]
  },
  {
   "cell_type": "code",
   "execution_count": 7,
   "id": "4c3536b6-f8c5-4f2e-bc85-2fb28e37afd1",
   "metadata": {},
   "outputs": [
    {
     "name": "stdout",
     "output_type": "stream",
     "text": [
      "List of 5 random numbers: [48, 20, 16, 95, 99]\n"
     ]
    }
   ],
   "source": [
    "import random\n",
    "\n",
    "# Q1: Creating a list of 5 random numbers\n",
    "random_numbers = [random.randint(1, 100) for _ in range(5)]\n",
    "print(\"List of 5 random numbers:\", random_numbers)\n"
   ]
  },
  {
   "cell_type": "code",
   "execution_count": 8,
   "id": "d7ec0b43-4018-442b-84ad-ef12273b3745",
   "metadata": {},
   "outputs": [
    {
     "name": "stdout",
     "output_type": "stream",
     "text": [
      "Updated list: [48, 20, 16, 95, 99, 125, 150, 175]\n"
     ]
    }
   ],
   "source": [
    "# Q2: Inserting 3 new values\n",
    "new_values = [125, 150, 175]  \n",
    "for value in new_values:\n",
    "    random_numbers.append(value)\n",
    "print(\"Updated list:\", random_numbers)"
   ]
  },
  {
   "cell_type": "code",
   "execution_count": 9,
   "id": "6753af1d-597f-4abb-8d0c-4ec1c4f8085e",
   "metadata": {},
   "outputs": [
    {
     "name": "stdout",
     "output_type": "stream",
     "text": [
      "Elements in the list:\n",
      "48\n",
      "20\n",
      "16\n",
      "95\n",
      "99\n",
      "125\n",
      "150\n",
      "175\n"
     ]
    }
   ],
   "source": [
    "# Q3: Using a for loop to print each element\n",
    "print(\"Elements in the list:\")\n",
    "for number in random_numbers:\n",
    "    print(number)"
   ]
  },
  {
   "cell_type": "code",
   "execution_count": 10,
   "id": "6adf0d41-c018-4346-ad7f-db0f258bbb28",
   "metadata": {},
   "outputs": [],
   "source": [
    "# Topic: Dictionary\n",
    "# Q1. Create a dictionary with keys 'name', 'age', and 'address' and values 'John', 25, and 'New York' respectively.\n",
    "# Q2. Add a new key-value pair to the dictionary created in Q1 with key 'phone' and value '1234567890'.\n"
   ]
  },
  {
   "cell_type": "code",
   "execution_count": 11,
   "id": "02e42c3a-ec50-4ea2-bcf2-cf610606960e",
   "metadata": {},
   "outputs": [
    {
     "name": "stdout",
     "output_type": "stream",
     "text": [
      "Dictionary: {'name': 'John', 'age': 25, 'address': 'New York'}\n"
     ]
    }
   ],
   "source": [
    "# Q1: Creating a dictionary\n",
    "person = {\n",
    "    'name': 'John',\n",
    "    'age': 25,\n",
    "    'address': 'New York'\n",
    "}\n",
    "print(\"Dictionary:\", person)\n"
   ]
  },
  {
   "cell_type": "code",
   "execution_count": 12,
   "id": "b32fe8ce-76c4-4450-937f-8b0bca00f69e",
   "metadata": {},
   "outputs": [
    {
     "name": "stdout",
     "output_type": "stream",
     "text": [
      "Updated dictionary: {'name': 'John', 'age': 25, 'address': 'New York', 'phone': '39654498'}\n"
     ]
    }
   ],
   "source": [
    "# Q2: Adding a new key-value pair\n",
    "person['phone'] = '39654498'\n",
    "print(\"Updated dictionary:\", person)\n"
   ]
  },
  {
   "cell_type": "code",
   "execution_count": 13,
   "id": "cba7b8ed-d66e-40f7-afc0-4b15e9639f73",
   "metadata": {},
   "outputs": [],
   "source": [
    "# Topic: Set\n",
    "# Q1.Create a set with values 1, 2, 3, 4, and 5.\n",
    "# Q2. Add the value 6 to the set created in Q1.\n",
    "# Q3. Remove the value 3 from the set created in Q1.\n"
   ]
  },
  {
   "cell_type": "code",
   "execution_count": 15,
   "id": "d4c59d2c-3b3c-4899-aea7-2cda7e893c3b",
   "metadata": {},
   "outputs": [
    {
     "name": "stdout",
     "output_type": "stream",
     "text": [
      "Set: {1, 2, 3, 4, 5}\n"
     ]
    }
   ],
   "source": [
    "# Q1: Creating a set with values 1, 2, 3, 4, and 5\n",
    "set = {1, 2, 3, 4, 5}\n",
    "print(\"Set:\", set)"
   ]
  },
  {
   "cell_type": "code",
   "execution_count": 16,
   "id": "8a47312d-4c5b-4ef6-bed6-c4c683a810b6",
   "metadata": {},
   "outputs": [
    {
     "name": "stdout",
     "output_type": "stream",
     "text": [
      "Set after adding 6: {1, 2, 3, 4, 5, 6}\n"
     ]
    }
   ],
   "source": [
    "# Q2: Adding the value 6 to the set\n",
    "set.add(6)\n",
    "print(\"Set after adding 6:\", set)\n"
   ]
  },
  {
   "cell_type": "code",
   "execution_count": 17,
   "id": "d7de95a5-0b56-437c-bb44-b5c218f34bde",
   "metadata": {},
   "outputs": [
    {
     "name": "stdout",
     "output_type": "stream",
     "text": [
      "Set after removing 3: {1, 2, 4, 5, 6}\n"
     ]
    }
   ],
   "source": [
    "# Q3: Removing the value 3 from the set\n",
    "set.remove(3)\n",
    "print(\"Set after removing 3:\", set)\n"
   ]
  },
  {
   "cell_type": "code",
   "execution_count": 18,
   "id": "260ef1a0-8e42-4cd6-bdee-eb144cdf1f13",
   "metadata": {},
   "outputs": [],
   "source": [
    "# Topic:Tuple\n",
    "# Exercise \n",
    "# Q1. Create a tuple with values 1, 2, 3, and 4\n",
    "# Q2. Print the length of the tuple created in Q1."
   ]
  },
  {
   "cell_type": "code",
   "execution_count": 19,
   "id": "c5476fd8-ab8a-4fb8-9273-0a08a84d1c9f",
   "metadata": {},
   "outputs": [
    {
     "name": "stdout",
     "output_type": "stream",
     "text": [
      "Tuple: (1, 2, 3, 4)\n"
     ]
    }
   ],
   "source": [
    "# Q1: Creating a tuple with values 1, 2, 3, and 4\n",
    "my_tuple = (1, 2, 3, 4)\n",
    "print(\"Tuple:\", my_tuple)\n"
   ]
  },
  {
   "cell_type": "code",
   "execution_count": 20,
   "id": "6783b29c-ca94-4b75-b2ce-4595e882ef76",
   "metadata": {},
   "outputs": [
    {
     "name": "stdout",
     "output_type": "stream",
     "text": [
      "Length of the tuple: 4\n"
     ]
    }
   ],
   "source": [
    "# Q2: Printing the length of the tuple\n",
    "length_of_tuple = len(my_tuple)\n",
    "print(\"Length of the tuple:\", length_of_tuple)\n"
   ]
  },
  {
   "cell_type": "code",
   "execution_count": null,
   "id": "d566c3e3-08b6-41dd-9e44-e6bc5a519d75",
   "metadata": {},
   "outputs": [],
   "source": []
  }
 ],
 "metadata": {
  "kernelspec": {
   "display_name": "Python 3 (ipykernel)",
   "language": "python",
   "name": "python3"
  },
  "language_info": {
   "codemirror_mode": {
    "name": "ipython",
    "version": 3
   },
   "file_extension": ".py",
   "mimetype": "text/x-python",
   "name": "python",
   "nbconvert_exporter": "python",
   "pygments_lexer": "ipython3",
   "version": "3.12.7"
  }
 },
 "nbformat": 4,
 "nbformat_minor": 5
}
