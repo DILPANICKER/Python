{
 "cells": [
  {
   "cell_type": "markdown",
   "id": "5ec1bf67-c197-4c0c-9f15-3db3ffe8623a",
   "metadata": {},
   "source": [
    "## Python Fundamentals - Assignment"
   ]
  },
  {
   "cell_type": "code",
   "execution_count": 1,
   "id": "651ffd49-5fa3-452d-b388-742cee922cf6",
   "metadata": {},
   "outputs": [],
   "source": [
    "# Exercise 1  \n",
    "# Write Python code that prints your name, student number and email address.  \n",
    "# An example runs of the program:  \n",
    "# Bob \n",
    "# ST1001 \n",
    "# bob@gmail.com \n"
   ]
  },
  {
   "cell_type": "code",
   "execution_count": 2,
   "id": "61da1640-abea-4f1d-ab99-7f9f32f8156e",
   "metadata": {},
   "outputs": [
    {
     "name": "stdout",
     "output_type": "stream",
     "text": [
      "Dileep\n",
      "ST1001\n",
      "dilpanicker@gmail.com\n"
     ]
    }
   ],
   "source": [
    "print(\"Dileep\")\n",
    "print(\"ST1001\")\n",
    "print(\"dilpanicker@gmail.com\")\n"
   ]
  },
  {
   "cell_type": "code",
   "execution_count": 1,
   "id": "599235ad-cf2f-4bc5-ab04-ffb707409b5c",
   "metadata": {},
   "outputs": [],
   "source": [
    "# Exercise 2 \n",
    "# Write Python code that prints your name, student number and email address using escape sequences.     \n",
    "# An example runs of the program: \n",
    "# Bob \n",
    "# ST1001 \n",
    "# bob@gmail.com "
   ]
  },
  {
   "cell_type": "code",
   "execution_count": 6,
   "id": "5f78fc0d-0cdc-4857-9052-e84ac200de8c",
   "metadata": {},
   "outputs": [
    {
     "name": "stdout",
     "output_type": "stream",
     "text": [
      "Dileep\n",
      "ST1001\n",
      "dilpanicker@gmail.com\n"
     ]
    }
   ],
   "source": [
    "print(\"Dileep\\nST1001\\ndilpanicker@gmail.com\")\n"
   ]
  },
  {
   "cell_type": "code",
   "execution_count": 7,
   "id": "10bc4227-c741-40bb-8e42-dc3b38ca4e97",
   "metadata": {},
   "outputs": [],
   "source": [
    "# Exercise 3 \n",
    "# Write Python code that add, subtract, multiply and divide the two numbers. You can use the two numbers 14 and 7.  An example run of the program:  \n",
    "# 14 + 7 = 21 \n",
    "# 14 * 7 = 98 \n",
    "# 14 – 7 = 7 \n",
    "# 14 / 7 = 2 "
   ]
  },
  {
   "cell_type": "code",
   "execution_count": 8,
   "id": "ff761f83-b46d-4cfb-b129-9425d5541a02",
   "metadata": {},
   "outputs": [
    {
     "name": "stdout",
     "output_type": "stream",
     "text": [
      "14 + 7 = 21\n",
      "14 - 7 = 7\n",
      "14 * 7 = 98\n",
      "14 / 7 = 2.0\n"
     ]
    }
   ],
   "source": [
    "num1 = 14\n",
    "num2 = 7\n",
    "\n",
    "print(f\"{num1} + {num2} = {num1 + num2}\")\n",
    "print(f\"{num1} - {num2} = {num1 - num2}\")\n",
    "print(f\"{num1} * {num2} = {num1 * num2}\")\n",
    "print(f\"{num1} / {num2} = {num1 / num2}\")"
   ]
  },
  {
   "cell_type": "code",
   "execution_count": 10,
   "id": "4848c940-38c0-424e-a6ba-3dd0a5ba716d",
   "metadata": {},
   "outputs": [],
   "source": [
    "# Exercise 4\n",
    "# Write Python code that displays the numbers from 1 to 5 as steps. \n",
    "# An example runs of the program: \n",
    "# 1 \n",
    "# 2 \n",
    "# 3 \n",
    "# 4 \n",
    "# 5 \n"
   ]
  },
  {
   "cell_type": "code",
   "execution_count": 11,
   "id": "c54c6a7d-353b-405a-a544-4671989bcb9f",
   "metadata": {},
   "outputs": [
    {
     "name": "stdout",
     "output_type": "stream",
     "text": [
      "1\n",
      "2\n",
      "3\n",
      "4\n",
      "5\n"
     ]
    }
   ],
   "source": [
    "for i in range(1, 6):\n",
    "    print(i)\n"
   ]
  },
  {
   "cell_type": "code",
   "execution_count": 12,
   "id": "25a6b4c8-5f29-43b3-9961-b33bfa425a54",
   "metadata": {},
   "outputs": [],
   "source": [
    "# Exercise 5\n",
    "# Write Python code that outputs the following sentence (including the quotation marks and line break) to the screen: \n",
    "# An example runs of the program:  \n",
    "# \"SDK\" stands for \"Software Development Kit\", whereas \n",
    "# \"IDE\" stands for \"Integrated Development Environment\". \n"
   ]
  },
  {
   "cell_type": "code",
   "execution_count": 14,
   "id": "aa3bfade-2c76-48cd-8cdd-f1adb9616048",
   "metadata": {},
   "outputs": [
    {
     "name": "stdout",
     "output_type": "stream",
     "text": [
      "\"SDK\" stands for \"Software Development Kit\", whereas\n",
      "\"IDE\" stands for \"Integrated Development Environment\".\n"
     ]
    }
   ],
   "source": [
    "print(\"\\\"SDK\\\" stands for \\\"Software Development Kit\\\", whereas\")\n",
    "print(\"\\\"IDE\\\" stands for \\\"Integrated Development Environment\\\".\")\n"
   ]
  },
  {
   "cell_type": "code",
   "execution_count": 23,
   "id": "d4b557d9-f3c9-4c0e-99f4-0af99bfb6984",
   "metadata": {},
   "outputs": [
    {
     "name": "stdout",
     "output_type": "stream",
     "text": [
      "\"SDK\" stands for \"Software Development Kit\", whereas \n",
      "\"IDE\" stands for \"Integrated Development Environment\".\" \n"
     ]
    }
   ],
   "source": [
    "# OR\n",
    "print(\"\"\"\"SDK\" stands for \"Software Development Kit\", whereas \n",
    "\"IDE\" stands for \"Integrated Development Environment\".\" \"\"\")"
   ]
  },
  {
   "cell_type": "code",
   "execution_count": 24,
   "id": "7f2250c0-ced3-4a10-b0d8-466455523da1",
   "metadata": {},
   "outputs": [],
   "source": [
    "# Exercise 6\n",
    "# Practice and check the output\n",
    "# print(\"python is an \\\"awesome\\\" language.\")\n",
    "# print(\"python\\n\\t2023\")\n",
    "# print('I\\'m from Entri.\\b')\n",
    "# print(\"\\65\")\n",
    "# print(\"\\x65\")\n",
    "# print(\"Entri\", \"2023\", sep=\"\\n\")\n",
    "# print(\"Entri\", \"2023\", sep=\"\\b\")\n",
    "# print(\"Entri\", \"2023\", sep=\"*\", end=\"\\b\\b\\b\\b\")\n"
   ]
  },
  {
   "cell_type": "code",
   "execution_count": 30,
   "id": "20cbce77-bea9-4a26-8eff-46bc3d4fd815",
   "metadata": {},
   "outputs": [
    {
     "name": "stdout",
     "output_type": "stream",
     "text": [
      "python is an \"awesome\" language.\n",
      "python\n",
      "\t2023\n",
      "I'm from Entri\n",
      "5\n",
      "e\n",
      "Entri\n",
      "2023\n",
      "Entr2023\n",
      "Entri*20"
     ]
    }
   ],
   "source": [
    "print(\"python is an \\\"awesome\\\" language.\")\n",
    "print(\"python\\n\\t2023\")\n",
    "print('I\\'m from Entri.\\b')\n",
    "print(\"\\65\")  # ASCII for 'A'\n",
    "print(\"\\x65\")  # Hexadecimal for 'e'\n",
    "print(\"Entri\", \"2023\", sep=\"\\n\")\n",
    "print(\"Entri\", \"2023\", sep=\"\\b\")  # Backspace between words\n",
    "print(\"Entri\", \"2023\", sep=\"*\", end=\"\\b\\b\\b\\b\")\n"
   ]
  },
  {
   "cell_type": "code",
   "execution_count": 32,
   "id": "530dece3-e40d-48d9-bc74-edb8e92e896b",
   "metadata": {},
   "outputs": [],
   "source": [
    "# Exercise 7\n",
    "# Define the variables below. Print the types of each variable. What is the sum of your variables? (Hint: use a type conversion function.) What datatype is the sum?\n",
    "# num=23\n",
    "# textnum=\"57\"\n",
    "# decimal=98.3\n"
   ]
  },
  {
   "cell_type": "code",
   "execution_count": 37,
   "id": "0c204a5a-a9fd-4374-b375-149cd0182ace",
   "metadata": {},
   "outputs": [
    {
     "name": "stdout",
     "output_type": "stream",
     "text": [
      "Type of num: <class 'int'>\n",
      "Type of textnum: <class 'str'>\n",
      "Type of decimal: <class 'float'>\n",
      "Sum of variables: 178.3\n",
      "Type of sum: <class 'float'>\n"
     ]
    }
   ],
   "source": [
    "num = 23\n",
    "textnum = \"57\"\n",
    "decimal = 98.3\n",
    "\n",
    "print(\"Type of num:\", type(num))\n",
    "print(\"Type of textnum:\", type(textnum))\n",
    "print(\"Type of decimal:\", type(decimal))\n",
    "\n",
    "# Convert textnum to an integer\n",
    "textnum_int = int(textnum)\n",
    "\n",
    "sum_of_variables = num + int(textnum) + decimal\n",
    "print(\"Sum of variables:\", sum_of_variables)\n",
    "print(\"Type of sum:\", type(sum_of_variables))\n"
   ]
  },
  {
   "cell_type": "code",
   "execution_count": 38,
   "id": "0ce0075b-d888-4f6a-9849-d10a0252eddb",
   "metadata": {},
   "outputs": [],
   "source": [
    "# Exercise 8\n",
    "# calculate the number of minutes in a year using variables for each unit of time. \n",
    "#print a statement that describes what your code does also. Create three variables to store no of days in a year, minute in a hour, hours in a day, \n",
    "#then calculate the total minutes in a year and print the values\n",
    "# (hint) total number of minutes in an year =No.of days in an year * Hours in a day * Minutes in an hour\n"
   ]
  },
  {
   "cell_type": "code",
   "execution_count": 39,
   "id": "8eb5ed9d-43d3-4304-9f0d-9b0f890cd3cd",
   "metadata": {},
   "outputs": [
    {
     "name": "stdout",
     "output_type": "stream",
     "text": [
      "This program calculates the total number of minutes in a year.\n",
      "Total minutes in a year: 525600\n"
     ]
    }
   ],
   "source": [
    "days_in_year = 365\n",
    "hours_in_day = 24\n",
    "minutes_in_hour = 60\n",
    "\n",
    "total_minutes = days_in_year * hours_in_day * minutes_in_hour\n",
    "print(\"This program calculates the total number of minutes in a year.\")\n",
    "print(\"Total minutes in a year:\", total_minutes)\n"
   ]
  },
  {
   "cell_type": "code",
   "execution_count": 41,
   "id": "96a6e1ff-3383-4d7f-805d-480f1ab73eef",
   "metadata": {},
   "outputs": [],
   "source": [
    "# Exercise 9\n",
    "# Write Python code that asks the user to enter his/her name and then output/prints his/her name with a greeting.\n",
    "# An example runs of the program:\n",
    "# Please enter you name: Tony\n",
    "# Hi Tony, welcome to Python programming :)\n"
   ]
  },
  {
   "cell_type": "code",
   "execution_count": 42,
   "id": "c3fb7e35-afd8-4925-9adb-b528f305e97b",
   "metadata": {},
   "outputs": [
    {
     "name": "stdin",
     "output_type": "stream",
     "text": [
      "Please enter your name:  Mammootty\n"
     ]
    },
    {
     "name": "stdout",
     "output_type": "stream",
     "text": [
      "Hi Mammootty, welcome to Python programming :)\n"
     ]
    }
   ],
   "source": [
    "name = input(\"Please enter your name: \")\n",
    "print(f\"Hi {name}, welcome to Python programming :)\")\n"
   ]
  },
  {
   "cell_type": "code",
   "execution_count": 43,
   "id": "4a72725b-4d39-4802-8df8-c53d9dd17949",
   "metadata": {},
   "outputs": [],
   "source": [
    "# Exercise 10\n",
    "# Name your file: PoundsToDollars.py\n",
    "# Write a program that asks the user to enter an amount in pounds (£) and the program calculates and converts an amount in dollar ($)\n",
    "# An example runs of the program:\n",
    "# Please enter amount in pounds: XXX\n",
    "# £ XXX are $ XXX\n"
   ]
  },
  {
   "cell_type": "code",
   "execution_count": 45,
   "id": "c0e4741f-22c7-4f4f-abe8-af06214eeecd",
   "metadata": {},
   "outputs": [
    {
     "name": "stdin",
     "output_type": "stream",
     "text": [
      "Please enter amount in pounds:  150\n"
     ]
    },
    {
     "name": "stdout",
     "output_type": "stream",
     "text": [
      "£ 150.00 are $186.00\n"
     ]
    }
   ],
   "source": [
    "pounds = float(input(\"Please enter amount in pounds: \"))\n",
    "conversion_rate = 1.24  # as on 5 Jan 2024\n",
    "dollars = pounds * conversion_rate\n",
    "print(f\"£{pounds: .2f} are ${dollars:.2f}\")\n"
   ]
  },
  {
   "cell_type": "code",
   "execution_count": null,
   "id": "be4340e4-f36e-45fa-b012-238360a2c15e",
   "metadata": {},
   "outputs": [],
   "source": []
  }
 ],
 "metadata": {
  "kernelspec": {
   "display_name": "Python 3 (ipykernel)",
   "language": "python",
   "name": "python3"
  },
  "language_info": {
   "codemirror_mode": {
    "name": "ipython",
    "version": 3
   },
   "file_extension": ".py",
   "mimetype": "text/x-python",
   "name": "python",
   "nbconvert_exporter": "python",
   "pygments_lexer": "ipython3",
   "version": "3.12.7"
  }
 },
 "nbformat": 4,
 "nbformat_minor": 5
}
